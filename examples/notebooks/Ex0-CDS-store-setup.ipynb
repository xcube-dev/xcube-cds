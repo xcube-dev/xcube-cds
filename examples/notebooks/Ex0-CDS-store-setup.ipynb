{
 "cells": [
  {
   "cell_type": "markdown",
   "metadata": {},
   "source": [
    "## xcube CDS Plugin Setup\n",
    "\n",
    "To run the Notebooks in this folder, you will need a Python environment with [`xcube`](https://github.com/dcs4cop/xcube) and the `xcube` plugin [`xcube_cds`](https://github.com/dcs4cop/xcube-cds) installed. The instructions below detail how to set up such an environment using the conda package manager.\n",
    "\n",
    "### Installation\n",
    "\n",
    "To install the `xcube_cds` plugin follow the instructions given in the [xcube-cds README](https://github.com/dcs4cop/xcube-cds/blob/main/README.md).\n",
    "\n",
    "Before using Jupyter Lab for the first time, install the `jupyterlab` package and the `nodejs` package, and make sure the \n",
    "[Jupyter GeoJSON extension](https://www.npmjs.com/package/@jupyterlab/geojson-extension) is installed too:\n",
    "\n",
    "```bash\n",
    "conda install jupyterlab\n",
    "conda install nodejs\n",
    "jupyter labextension install @jupyterlab/geojson-extension\n",
    "```\n",
    "\n",
    "### Running Juypter Lab\n",
    "            \n",
    "Start Jupyter Lab:\n",
    "\n",
    "```bash\n",
    "jupyter-lab\n",
    "```\n",
    "\n",
    "### Test Setup\n",
    "\n",
    "Do some simple checks to confirm that setup was successful.\n",
    "\n",
    "Import and show the version string:\n"
   ]
  },
  {
   "cell_type": "code",
   "execution_count": 1,
   "metadata": {},
   "outputs": [
    {
     "data": {
      "text/plain": [
       "'0.9.2'"
      ]
     },
     "execution_count": 1,
     "metadata": {},
     "output_type": "execute_result"
    }
   ],
   "source": [
    "import xcube_cds\n",
    "\n",
    "xcube_cds.__version__"
   ]
  },
  {
   "cell_type": "markdown",
   "metadata": {},
   "source": [
    "Import the store and opener classes exported by `xcube_cds`:"
   ]
  },
  {
   "cell_type": "code",
   "execution_count": 2,
   "metadata": {},
   "outputs": [],
   "source": [
    "from xcube_cds.store import CDSDataStore\n",
    "from xcube_cds.store import CDSDataOpener"
   ]
  },
  {
   "cell_type": "markdown",
   "metadata": {},
   "source": [
    "Try calling a class method on the CDS data store:"
   ]
  },
  {
   "cell_type": "code",
   "execution_count": 3,
   "metadata": {},
   "outputs": [
    {
     "data": {
      "text/plain": [
       "('dataset',)"
      ]
     },
     "execution_count": 3,
     "metadata": {},
     "output_type": "execute_result"
    }
   ],
   "source": [
    "CDSDataStore.get_data_types()"
   ]
  },
  {
   "cell_type": "markdown",
   "metadata": {},
   "source": [
    "Try creating a CDS data store using the xcube store framework:"
   ]
  },
  {
   "cell_type": "code",
   "execution_count": 4,
   "metadata": {},
   "outputs": [
    {
     "data": {
      "text/plain": [
       "<xcube_cds.store.CDSDataStore at 0x733c607a4890>"
      ]
     },
     "execution_count": 4,
     "metadata": {},
     "output_type": "execute_result"
    }
   ],
   "source": [
    "from xcube.core.store import new_data_store\n",
    "\n",
    "cds_store = new_data_store(\"cds\")\n",
    "cds_store"
   ]
  },
  {
   "cell_type": "markdown",
   "metadata": {},
   "source": [
    "Now list the IDs of the datasets available from the store:"
   ]
  },
  {
   "cell_type": "code",
   "execution_count": 5,
   "metadata": {
    "tags": []
   },
   "outputs": [
    {
     "data": {
      "text/plain": [
       "['reanalysis-era5-single-levels:ensemble_mean',\n",
       " 'reanalysis-era5-single-levels:ensemble_members',\n",
       " 'reanalysis-era5-single-levels:ensemble_spread',\n",
       " 'reanalysis-era5-single-levels:reanalysis',\n",
       " 'reanalysis-era5-single-levels-monthly-means:monthly_averaged_ensemble_members',\n",
       " 'reanalysis-era5-single-levels-monthly-means:monthly_averaged_reanalysis',\n",
       " 'reanalysis-era5-land-monthly-means:monthly_averaged_reanalysis',\n",
       " 'reanalysis-era5-land',\n",
       " 'satellite-soil-moisture:saturation:daily',\n",
       " 'satellite-soil-moisture:saturation:10-day',\n",
       " 'satellite-soil-moisture:saturation:monthly',\n",
       " 'satellite-soil-moisture:volumetric:daily',\n",
       " 'satellite-soil-moisture:volumetric:10-day',\n",
       " 'satellite-soil-moisture:volumetric:monthly',\n",
       " 'satellite-sea-ice-thickness:envisat',\n",
       " 'satellite-sea-ice-thickness:cryosat-2']"
      ]
     },
     "execution_count": 5,
     "metadata": {},
     "output_type": "execute_result"
    }
   ],
   "source": [
    "cds_store.list_data_ids()"
   ]
  }
 ],
 "metadata": {
  "kernelspec": {
   "display_name": "Python 3 (ipykernel)",
   "language": "python",
   "name": "python3"
  },
  "language_info": {
   "codemirror_mode": {
    "name": "ipython",
    "version": 3
   },
   "file_extension": ".py",
   "mimetype": "text/x-python",
   "name": "python",
   "nbconvert_exporter": "python",
   "pygments_lexer": "ipython3",
   "version": "3.12.5"
  }
 },
 "nbformat": 4,
 "nbformat_minor": 4
}
